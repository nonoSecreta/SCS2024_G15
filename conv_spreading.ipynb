{
 "cells": [
  {
   "cell_type": "code",
   "execution_count": 7,
   "metadata": {},
   "outputs": [
    {
     "name": "stdout",
     "output_type": "stream",
     "text": [
      "[[ 12   9   6]\n",
      " [  3   0  -3]\n",
      " [ -6  -9 -12]]\n"
     ]
    }
   ],
   "source": [
    "import numpy as np\n",
    "from scipy.signal import convolve2d\n",
    "\n",
    "# Define the 2D matrix\n",
    "A = np.array([[1, 2, 3],\n",
    "              [4, 5, 6],\n",
    "              [7, 8, 9]])\n",
    "\n",
    "# Define the 2D kernel\n",
    "K = np.array([[0, 1, 0],\n",
    "              [1, -4, 1],\n",
    "              [0, 1, 0]])\n",
    "\n",
    "# Pad the array to simulate periodic boundaries\n",
    "pad_width = (len(K) - 1) // 2\n",
    "A_padded = np.pad(A, pad_width, mode='wrap')\n",
    "\n",
    "# Perform the convolution\n",
    "result = convolve2d(A_padded, K, mode='valid')\n",
    "\n",
    "# Crop to the original size\n",
    "result = result[:A.shape[0], :A.shape[1]]\n",
    "print(result)\n"
   ]
  },
  {
   "cell_type": "code",
   "execution_count": 10,
   "metadata": {},
   "outputs": [
    {
     "name": "stdout",
     "output_type": "stream",
     "text": [
      "1\n",
      "[[5 6 4 5 6 4 5]\n",
      " [8 9 7 8 9 7 8]\n",
      " [2 3 1 2 3 1 2]\n",
      " [5 6 4 5 6 4 5]\n",
      " [8 9 7 8 9 7 8]\n",
      " [2 3 1 2 3 1 2]\n",
      " [5 6 4 5 6 4 5]]\n",
      "[[-12  -6  -9 -12  -6]\n",
      " [  6  12   9   6  12]\n",
      " [ -3   3   0  -3   3]\n",
      " [-12  -6  -9 -12  -6]\n",
      " [  6  12   9   6  12]]\n"
     ]
    }
   ],
   "source": [
    "print(pad_width)\n",
    "A_padded = np.pad(A, pad_width+1, mode='wrap')\n",
    "print(A_padded)\n",
    "print(convolve2d(A_padded, K, mode='valid'))"
   ]
  }
 ],
 "metadata": {
  "kernelspec": {
   "display_name": "Python 3",
   "language": "python",
   "name": "python3"
  },
  "language_info": {
   "codemirror_mode": {
    "name": "ipython",
    "version": 3
   },
   "file_extension": ".py",
   "mimetype": "text/x-python",
   "name": "python",
   "nbconvert_exporter": "python",
   "pygments_lexer": "ipython3",
   "version": "3.11.4"
  }
 },
 "nbformat": 4,
 "nbformat_minor": 2
}
